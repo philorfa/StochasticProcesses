{
  "nbformat": 4,
  "nbformat_minor": 0,
  "metadata": {
    "colab": {
      "name": "Stochastic_Processes_&_Optimization_in_Machine_Learning_(Lab_2_K_Means).ipynb",
      "provenance": []
    },
    "kernelspec": {
      "name": "python3",
      "display_name": "Python 3"
    }
  },
  "cells": [
    {
      "cell_type": "markdown",
      "metadata": {
        "id": "UqDCtCWt_uJw"
      },
      "source": [
        "<h1><b>Ο Αλγόριθμος k-means</b></h1>\n",
        "<p align=\"justify\">Στην άσκηση αυτή θα μελετήσετε τον αλγόριθμο <a href=\"https://en.wikipedia.org/wiki/K-means_clustering\"><i>k-means</i></a>, κατασκευάζοντας ένα σύντομο πρόγραμμα. Για την παρούσα άσκηση θα χρησιμοποιήσετε τη βιβλιοθήκη <i>Scikit-Learn</i> της <i>Python</i>. Συγκεκριμένα, θα διαχωρίσετε σε <i>συστάδες (clusters)</i> 150 δείγματα του φυτού <i>Ίρις</i> με βάση τα δεδομένα που σας δίνονται στο τέλος της εκφώνησης και με βάση αυτό μπορείτε να χτίσετε και το ενιαίο πρόγραμμα που θα σας ζητηθεί. Τα <i>χαρακτηριστικά (features)</i> που περιλαμβάνονται στο <i>dataset</i> και που περιγράφουν το κάθε δείγμα είναι τα εξής: το <i>μήκος του Σέπαλου (sepal length)</i>, το <i>πλάτος του Σέπαλου (sepal width)</i>, το <i>μήκος των Πετάλων (petal length)</i> και το <i>πλάτος των Πετάλων (petal width)</i>.</p>\n",
        "<p>Καλείστε να αναπτύξετε ένα ενιαίο πρόγραμμα που να κάνει τα παρακάτω:</p>\n",
        "<ul>\n",
        "<li>Να υλοποιεί την μέθοδο <a href=\"https://en.wikipedia.org/wiki/Elbow_method_(clustering)\"><i>«Elbow»</i></a> στο σύνολο δεδομένων του φυτού <i>Ίρις</i>, ώστε να εντοπίσετε τον βέλτιστο αριθμό των <i>συστάδων</i>. Τι παρατηρείτε;</li>\n",
        "<li>Να υλοποιεί τον αλγόριθμο <i>k-means</i> με βάση το βέλτιστο αριθμό <i>συστάδων</i> που βρήκατε στο προηγούμενο ερώτημα. Περιγράψτε πως λειτουργεί ο αλγόριθμος.</li>\n",
        "<li>Να σχεδιάσετε τις πραγματικές κλάσεις, καθώς και τις κλάσεις που προκύπτουν από το μοντέλο <i>k-means</i>. Τι παρατηρείτε;</li>\n",
        "<li>Επιχειρήστε να υλοποιήσετε ελέγχους σχετικά με την απόδοση του αλγορίθμου\n",
        "(<i>Ακρίβειας – Accuracy</i>, <a href=\"https://en.wikipedia.org/wiki/Confusion_matrix\"><i>Τιμές Μήτρας Λαθών – Error Matrix</i></a>). Αναλύστε τα\n",
        "αποτελέσματα. Πριν υλοποιήσετε τους ελέγχους, να λάβετε υπόψη το γεγονός ότι οι\n",
        "αριθμοί που χρησιμοποιούνται στο <i>iris.target</i> για τα είδη του φυτού, δεν έχουν καμία σχέση με τους αριθμούς που χρησιμοποιούνται από το μοντέλο <i>k-means</i> για τον ορισμό των <i>clusters</i>.</li>\n",
        "</ul>"
      ]
    },
    {
      "cell_type": "code",
      "metadata": {
        "id": "AKD4pxD3AFRE"
      },
      "source": [
        "import matplotlib.pyplot as plt\n",
        "from sklearn import datasets\n",
        "from sklearn.cluster import KMeans\n",
        "import sklearn.metrics as sm\n",
        " \n",
        "import pandas as pd\n",
        "import numpy as np"
      ],
      "execution_count": 1,
      "outputs": []
    },
    {
      "cell_type": "code",
      "metadata": {
        "id": "nB5RhnF3ALt3"
      },
      "source": [
        "# import some data to play with (from sklearn)\n",
        "iris = datasets.load_iris()"
      ],
      "execution_count": 2,
      "outputs": []
    },
    {
      "cell_type": "code",
      "metadata": {
        "id": "pM0Yj-NGAQ4u",
        "colab": {
          "base_uri": "https://localhost:8080/"
        },
        "outputId": "d31926e8-786d-4eb0-c3ad-83414120d304"
      },
      "source": [
        "#print is optional\n",
        "print(iris.data)\n",
        "iris.feature_names\n",
        "print(iris.target)\n",
        "iris.target_names"
      ],
      "execution_count": 3,
      "outputs": [
        {
          "output_type": "stream",
          "text": [
            "[[5.1 3.5 1.4 0.2]\n",
            " [4.9 3.  1.4 0.2]\n",
            " [4.7 3.2 1.3 0.2]\n",
            " [4.6 3.1 1.5 0.2]\n",
            " [5.  3.6 1.4 0.2]\n",
            " [5.4 3.9 1.7 0.4]\n",
            " [4.6 3.4 1.4 0.3]\n",
            " [5.  3.4 1.5 0.2]\n",
            " [4.4 2.9 1.4 0.2]\n",
            " [4.9 3.1 1.5 0.1]\n",
            " [5.4 3.7 1.5 0.2]\n",
            " [4.8 3.4 1.6 0.2]\n",
            " [4.8 3.  1.4 0.1]\n",
            " [4.3 3.  1.1 0.1]\n",
            " [5.8 4.  1.2 0.2]\n",
            " [5.7 4.4 1.5 0.4]\n",
            " [5.4 3.9 1.3 0.4]\n",
            " [5.1 3.5 1.4 0.3]\n",
            " [5.7 3.8 1.7 0.3]\n",
            " [5.1 3.8 1.5 0.3]\n",
            " [5.4 3.4 1.7 0.2]\n",
            " [5.1 3.7 1.5 0.4]\n",
            " [4.6 3.6 1.  0.2]\n",
            " [5.1 3.3 1.7 0.5]\n",
            " [4.8 3.4 1.9 0.2]\n",
            " [5.  3.  1.6 0.2]\n",
            " [5.  3.4 1.6 0.4]\n",
            " [5.2 3.5 1.5 0.2]\n",
            " [5.2 3.4 1.4 0.2]\n",
            " [4.7 3.2 1.6 0.2]\n",
            " [4.8 3.1 1.6 0.2]\n",
            " [5.4 3.4 1.5 0.4]\n",
            " [5.2 4.1 1.5 0.1]\n",
            " [5.5 4.2 1.4 0.2]\n",
            " [4.9 3.1 1.5 0.2]\n",
            " [5.  3.2 1.2 0.2]\n",
            " [5.5 3.5 1.3 0.2]\n",
            " [4.9 3.6 1.4 0.1]\n",
            " [4.4 3.  1.3 0.2]\n",
            " [5.1 3.4 1.5 0.2]\n",
            " [5.  3.5 1.3 0.3]\n",
            " [4.5 2.3 1.3 0.3]\n",
            " [4.4 3.2 1.3 0.2]\n",
            " [5.  3.5 1.6 0.6]\n",
            " [5.1 3.8 1.9 0.4]\n",
            " [4.8 3.  1.4 0.3]\n",
            " [5.1 3.8 1.6 0.2]\n",
            " [4.6 3.2 1.4 0.2]\n",
            " [5.3 3.7 1.5 0.2]\n",
            " [5.  3.3 1.4 0.2]\n",
            " [7.  3.2 4.7 1.4]\n",
            " [6.4 3.2 4.5 1.5]\n",
            " [6.9 3.1 4.9 1.5]\n",
            " [5.5 2.3 4.  1.3]\n",
            " [6.5 2.8 4.6 1.5]\n",
            " [5.7 2.8 4.5 1.3]\n",
            " [6.3 3.3 4.7 1.6]\n",
            " [4.9 2.4 3.3 1. ]\n",
            " [6.6 2.9 4.6 1.3]\n",
            " [5.2 2.7 3.9 1.4]\n",
            " [5.  2.  3.5 1. ]\n",
            " [5.9 3.  4.2 1.5]\n",
            " [6.  2.2 4.  1. ]\n",
            " [6.1 2.9 4.7 1.4]\n",
            " [5.6 2.9 3.6 1.3]\n",
            " [6.7 3.1 4.4 1.4]\n",
            " [5.6 3.  4.5 1.5]\n",
            " [5.8 2.7 4.1 1. ]\n",
            " [6.2 2.2 4.5 1.5]\n",
            " [5.6 2.5 3.9 1.1]\n",
            " [5.9 3.2 4.8 1.8]\n",
            " [6.1 2.8 4.  1.3]\n",
            " [6.3 2.5 4.9 1.5]\n",
            " [6.1 2.8 4.7 1.2]\n",
            " [6.4 2.9 4.3 1.3]\n",
            " [6.6 3.  4.4 1.4]\n",
            " [6.8 2.8 4.8 1.4]\n",
            " [6.7 3.  5.  1.7]\n",
            " [6.  2.9 4.5 1.5]\n",
            " [5.7 2.6 3.5 1. ]\n",
            " [5.5 2.4 3.8 1.1]\n",
            " [5.5 2.4 3.7 1. ]\n",
            " [5.8 2.7 3.9 1.2]\n",
            " [6.  2.7 5.1 1.6]\n",
            " [5.4 3.  4.5 1.5]\n",
            " [6.  3.4 4.5 1.6]\n",
            " [6.7 3.1 4.7 1.5]\n",
            " [6.3 2.3 4.4 1.3]\n",
            " [5.6 3.  4.1 1.3]\n",
            " [5.5 2.5 4.  1.3]\n",
            " [5.5 2.6 4.4 1.2]\n",
            " [6.1 3.  4.6 1.4]\n",
            " [5.8 2.6 4.  1.2]\n",
            " [5.  2.3 3.3 1. ]\n",
            " [5.6 2.7 4.2 1.3]\n",
            " [5.7 3.  4.2 1.2]\n",
            " [5.7 2.9 4.2 1.3]\n",
            " [6.2 2.9 4.3 1.3]\n",
            " [5.1 2.5 3.  1.1]\n",
            " [5.7 2.8 4.1 1.3]\n",
            " [6.3 3.3 6.  2.5]\n",
            " [5.8 2.7 5.1 1.9]\n",
            " [7.1 3.  5.9 2.1]\n",
            " [6.3 2.9 5.6 1.8]\n",
            " [6.5 3.  5.8 2.2]\n",
            " [7.6 3.  6.6 2.1]\n",
            " [4.9 2.5 4.5 1.7]\n",
            " [7.3 2.9 6.3 1.8]\n",
            " [6.7 2.5 5.8 1.8]\n",
            " [7.2 3.6 6.1 2.5]\n",
            " [6.5 3.2 5.1 2. ]\n",
            " [6.4 2.7 5.3 1.9]\n",
            " [6.8 3.  5.5 2.1]\n",
            " [5.7 2.5 5.  2. ]\n",
            " [5.8 2.8 5.1 2.4]\n",
            " [6.4 3.2 5.3 2.3]\n",
            " [6.5 3.  5.5 1.8]\n",
            " [7.7 3.8 6.7 2.2]\n",
            " [7.7 2.6 6.9 2.3]\n",
            " [6.  2.2 5.  1.5]\n",
            " [6.9 3.2 5.7 2.3]\n",
            " [5.6 2.8 4.9 2. ]\n",
            " [7.7 2.8 6.7 2. ]\n",
            " [6.3 2.7 4.9 1.8]\n",
            " [6.7 3.3 5.7 2.1]\n",
            " [7.2 3.2 6.  1.8]\n",
            " [6.2 2.8 4.8 1.8]\n",
            " [6.1 3.  4.9 1.8]\n",
            " [6.4 2.8 5.6 2.1]\n",
            " [7.2 3.  5.8 1.6]\n",
            " [7.4 2.8 6.1 1.9]\n",
            " [7.9 3.8 6.4 2. ]\n",
            " [6.4 2.8 5.6 2.2]\n",
            " [6.3 2.8 5.1 1.5]\n",
            " [6.1 2.6 5.6 1.4]\n",
            " [7.7 3.  6.1 2.3]\n",
            " [6.3 3.4 5.6 2.4]\n",
            " [6.4 3.1 5.5 1.8]\n",
            " [6.  3.  4.8 1.8]\n",
            " [6.9 3.1 5.4 2.1]\n",
            " [6.7 3.1 5.6 2.4]\n",
            " [6.9 3.1 5.1 2.3]\n",
            " [5.8 2.7 5.1 1.9]\n",
            " [6.8 3.2 5.9 2.3]\n",
            " [6.7 3.3 5.7 2.5]\n",
            " [6.7 3.  5.2 2.3]\n",
            " [6.3 2.5 5.  1.9]\n",
            " [6.5 3.  5.2 2. ]\n",
            " [6.2 3.4 5.4 2.3]\n",
            " [5.9 3.  5.1 1.8]]\n",
            "[0 0 0 0 0 0 0 0 0 0 0 0 0 0 0 0 0 0 0 0 0 0 0 0 0 0 0 0 0 0 0 0 0 0 0 0 0\n",
            " 0 0 0 0 0 0 0 0 0 0 0 0 0 1 1 1 1 1 1 1 1 1 1 1 1 1 1 1 1 1 1 1 1 1 1 1 1\n",
            " 1 1 1 1 1 1 1 1 1 1 1 1 1 1 1 1 1 1 1 1 1 1 1 1 1 1 2 2 2 2 2 2 2 2 2 2 2\n",
            " 2 2 2 2 2 2 2 2 2 2 2 2 2 2 2 2 2 2 2 2 2 2 2 2 2 2 2 2 2 2 2 2 2 2 2 2 2\n",
            " 2 2]\n"
          ],
          "name": "stdout"
        },
        {
          "output_type": "execute_result",
          "data": {
            "text/plain": [
              "array(['setosa', 'versicolor', 'virginica'], dtype='<U10')"
            ]
          },
          "metadata": {
            "tags": []
          },
          "execution_count": 3
        }
      ]
    },
    {
      "cell_type": "code",
      "metadata": {
        "id": "QkWS8QAOATrX"
      },
      "source": [
        "# Store the inputs as a Pandas Dataframe and set the column names\n",
        "x = pd.DataFrame(iris.data)\n",
        "x.columns = ['Sepal_Length','Sepal_Width','Petal_Length','Petal_Width']"
      ],
      "execution_count": 4,
      "outputs": []
    },
    {
      "cell_type": "code",
      "metadata": {
        "id": "umJDBdPoAW0O"
      },
      "source": [
        "y = pd.DataFrame(iris.target)\n",
        "y.columns = ['Targets']"
      ],
      "execution_count": 5,
      "outputs": []
    },
    {
      "cell_type": "markdown",
      "metadata": {
        "id": "PMxp5P5sBUbE"
      },
      "source": [
        "### Elbow Method"
      ]
    },
    {
      "cell_type": "code",
      "metadata": {
        "id": "UyJcMo-NAH3U"
      },
      "source": [
        "inertia=[]\r\n",
        "for i in range(1,7):\r\n",
        "    mod = KMeans(n_clusters=i)\r\n",
        "    mod.fit(x)\r\n",
        "    inertia.append(mod.inertia_)"
      ],
      "execution_count": 6,
      "outputs": []
    },
    {
      "cell_type": "code",
      "metadata": {
        "colab": {
          "base_uri": "https://localhost:8080/",
          "height": 497
        },
        "id": "2A6YEK1MAQGe",
        "outputId": "d24a1ba4-c93e-4266-91b0-3f6e56433186"
      },
      "source": [
        "plt.figure(figsize=(10,8))\r\n",
        "plt.plot(range(1,7), inertia)\r\n",
        "plt.xlabel('k-clusters')\r\n",
        "plt.ylabel('Inertia')\r\n",
        "plt.show()"
      ],
      "execution_count": 7,
      "outputs": [
        {
          "output_type": "display_data",
          "data": {
            "image/png": "[encoded data removed]",
            "text/plain": [
              "<Figure size 720x576 with 1 Axes>"
            ]
          },
          "metadata": {
            "tags": [],
            "needs_background": "light"
          }
        }
      ]
    },
    {
      "cell_type": "markdown",
      "metadata": {
        "id": "TG1cgROoCHGq"
      },
      "source": [
        "Το αρχικό μας πρόβλημα είναι η κατάλληλη επιλογή του k, αριθμός clusters, που θα χρησιμοποιήσουμε για ενα εφαρμόσουμε τον αλγόριθμο του kmeans. Είναι σημαντικό να επιλέξουμε ένα k που να μην κάνει overfit τα δεδομένα μας αλλά και να μην κάνει underfit. Η μέθοδος του Elbow μας λέει πως όταν το διάγραμμα των σφαλμάτων σχηματίσει μια γωνία σαν αγκώνα, τότε αυτός είναι ο κατάλληλος αριθμός για clusters. Στην περίπτωση μας αυτή η γωνία σχηματίζεται στον k=3."
      ]
    },
    {
      "cell_type": "markdown",
      "metadata": {
        "id": "DcdSjZJ3Bc13"
      },
      "source": [
        "### K-Means"
      ]
    },
    {
      "cell_type": "code",
      "metadata": {
        "colab": {
          "base_uri": "https://localhost:8080/"
        },
        "id": "G03-ImGeBisV",
        "outputId": "8d6e76fb-1f30-47d0-d3ca-7bd83683e4f3"
      },
      "source": [
        "Kmod= KMeans(n_clusters=3)\r\n",
        "Kmod.fit(x)"
      ],
      "execution_count": 8,
      "outputs": [
        {
          "output_type": "execute_result",
          "data": {
            "text/plain": [
              "KMeans(algorithm='auto', copy_x=True, init='k-means++', max_iter=300,\n",
              "       n_clusters=3, n_init=10, n_jobs=None, precompute_distances='auto',\n",
              "       random_state=None, tol=0.0001, verbose=0)"
            ]
          },
          "metadata": {
            "tags": []
          },
          "execution_count": 8
        }
      ]
    },
    {
      "cell_type": "markdown",
      "metadata": {
        "id": "64LlMk7GDHvU"
      },
      "source": [
        "Ο αλγόριθμος k-means ακολουθεί τα εξής παρακάτω βήματα :\r\n",
        "\r\n",
        "\r\n",
        "   \r\n",
        "   \r\n",
        "1.   Τυχαία επιλόγη k σημείων, που θεωρούνται ως κέντρα των clusters\r\n",
        "2.   Για όλα τα δεδομένα υπολογίζουμε την Ευκλείδια Τετραγωνική απόσταση από όλα τα κέντρα των clusters.\r\n",
        "3.   Αναθέτουμε κάθε δείγμα στο cluster που έχει την μικρότερη Ευκλείδια Τετραγωνική απόσταση\r\n",
        "4.   Όταν ολοκληρώσουμε την διαδικασία για όλα τα δεδομένα, υπολογίζουμε το κέντρο κάθε cluster ως το μέσο όλων των στοιχέιων του.\r\n",
        "5.   Ολοκληρώθηκε μια εποχή και αν δεν έχει ικανοποιηθεί το κριτήριο τερματισμού πηγαίνουμε στο βήμα 2.\r\n",
        "6.   Σαν κρίτηριο τερματισμού μπορεί να είναι ένας μέγιστος αριθμός εποχών ή να είναι πολύ μικρή ή ελάχιστη η αλλαγή στα κέντρα των clusters ή να μην αλλάξει κανένα δείγμα cluster από την προηγούμενη εποχή.\r\n",
        "7.   Όταν ολοκληρωθεί ο αλγόριθμος έχουμε σαν έξοδο το κέντρο κάθε cluster και όταν θα δεχθεί σαν είσοδο ένα στοιχείο θα το τοποθετήσει στο cluster με την μικρότερη Ευκλείδια Τετραγωνική απόσταση\r\n",
        "\r\n",
        "\r\n",
        "Στην συγκεκριμένη περίπτωση κριτήριο τερματισμού είναι τα εξής :\r\n",
        "\r\n",
        "1. Η μέγιστη διαφορά του κέντρου ενός cluster σε διαδοχικές εποχές να είναι μικρότερη από το 0.0001. Για τον υπολογισμό της διαφοράς χρησιμοποιείται το Frobenius Norm\r\n",
        "2. O αλγόριθμος θα τρέξει το πολύ 300 εποχές και αν δεν ικανοποιηθεί το κριτήριο 1 τερματίζει.\r\n",
        "\r\n",
        "Τέλος ο αλγόριθμος θα τρέξει 10 φορές, με 10 διαφορετικά αρχικά σημεία για κέντρα των clusters και θα επιλέξει στο τέλος τα κέντρα με την μικρότερη inertia.\r\n",
        "\r\n",
        "\r\n"
      ]
    },
    {
      "cell_type": "markdown",
      "metadata": {
        "id": "6ZRxT2LeHdIv"
      },
      "source": [
        "### Real vs K-means Clusters"
      ]
    },
    {
      "cell_type": "markdown",
      "metadata": {
        "id": "HBtEq_3WJFda"
      },
      "source": [
        "Τα δεδομένα μας έχουν 4 attributes, δηλαδή 4 διαστάσεις, το οποίο δεν βοηθάει στην οπτικοποίηση. Επομένως για την άσκηση θα επιλέξουμε τα 2 πρώτα attributes για την οπτικοποίηση και αν παρατηρήσουμε ότι δεν είναι τα κατάλληλα, καθώς δεν βοηθάνε στο \"μάτι\" θα δοκιμάσουμε κάποιον άλλον συνδυασμό."
      ]
    },
    {
      "cell_type": "code",
      "metadata": {
        "colab": {
          "base_uri": "https://localhost:8080/",
          "height": 520
        },
        "id": "i8Xv4uJaHjDl",
        "outputId": "37cc2d31-8c7a-480f-eee2-1fc009576452"
      },
      "source": [
        "predictions=Kmod.predict(x)\r\n",
        "real=y['Targets']\r\n",
        "\r\n",
        "fig, axes = plt.subplots(1, 2, figsize=(16,8))\r\n",
        "\r\n",
        "axes[0].scatter(x[x.columns[3]], x[x.columns[2]], c=real)\r\n",
        "axes[1].scatter(x[x.columns[3]], x[x.columns[2]], c=predictions)\r\n",
        "axes[0].set_title('Real', fontsize=18)\r\n",
        "axes[1].set_title('k-means', fontsize=18)"
      ],
      "execution_count": 9,
      "outputs": [
        {
          "output_type": "execute_result",
          "data": {
            "text/plain": [
              "Text(0.5, 1.0, 'k-means')"
            ]
          },
          "metadata": {
            "tags": []
          },
          "execution_count": 9
        },
        {
          "output_type": "display_data",
          "data": {
            "image/png": "[encoded data removed]",
            "text/plain": [
              "<Figure size 1152x576 with 2 Axes>"
            ]
          },
          "metadata": {
            "tags": [],
            "needs_background": "light"
          }
        }
      ]
    },
    {
      "cell_type": "markdown",
      "metadata": {
        "id": "csgZAA_8N_sd"
      },
      "source": [
        "Τελικά επιλέξαμε το 3ο και 4ο attribute για την οπτικοποίηση. Παρατηρούμε ορισμένα λάθη του αλγορίθμου στα πάνω clusters, αλλά η γενική εικόνα είναι ότι καταφέρνει να ανταποκριθεί αρκετά καλά."
      ]
    },
    {
      "cell_type": "markdown",
      "metadata": {
        "id": "nlAcaGMHQMUR"
      },
      "source": [
        "### Confusion Matrix"
      ]
    },
    {
      "cell_type": "markdown",
      "metadata": {
        "id": "bIeDgWADUboE"
      },
      "source": [
        "Τα labels που δίνει σαν output ο αλγόριθμος του k_means δεν σχετίζονται με τα πραγματικά labels, αλλά είναι απλά μια τυχαία αρίθμηση των clusters. Για τον λόγο αυτον δεν μπορούμε να παρουσιάσουμε άμεσα έναν confusion matrix, αλλά παρουσιάζουμε το παρακάτω :"
      ]
    },
    {
      "cell_type": "code",
      "metadata": {
        "colab": {
          "base_uri": "https://localhost:8080/"
        },
        "id": "E-KmTl1gQ_ng",
        "outputId": "69be5f3d-42d8-4414-ee90-5aa2a395fa1e"
      },
      "source": [
        "df = pd.DataFrame({'Labels': real, 'Clusters': predictions})\r\n",
        "\r\n",
        "ct = pd.crosstab(df['Labels'], df['Clusters'])\r\n",
        "print(ct)"
      ],
      "execution_count": 10,
      "outputs": [
        {
          "output_type": "stream",
          "text": [
            "Clusters   0   1   2\n",
            "Labels              \n",
            "0          0  50   0\n",
            "1         48   0   2\n",
            "2         14   0  36\n"
          ],
          "name": "stdout"
        }
      ]
    },
    {
      "cell_type": "markdown",
      "metadata": {
        "id": "3dX5JSlrR_5i"
      },
      "source": [
        "\r\n",
        "\r\n",
        "*   Παρατηρούμε ότι από το πραγματικό label 0, δηλαδή τα setosa εχουν μπει όλα, και τα 50, στο ίδιο cluster με αριθμό 1. \r\n",
        "*   Παρατηρούμε ότι από το πραγματικό label 1, δηλαδή τα versicolor, έχουν μπει από τα 50, τα 48 στο cluster με αριθμό 0 και 2 έχουν μπει στο cluster με αριθμό 2.\r\n",
        "*   Παρατηρούμε ότι από το πραγματικό label 2, δηλαδή τα virginica, έχουν μπει από τα 50, τα 14 στο cluster με αριθμό 0 και 36 έχουν μπει στο cluster με αριθμό 2.\r\n",
        "\r\n",
        "Τα λάθη που έχουν πραγματοποιηθεί έχουν γίνει για τα 2 clusters που στο scatter plot είναι πάνω δεξιά. Οπώς βλέπουμε τα σημεία αυτά όντως βρίσκονται πολύ κοντά μεταξύ τους και δεν υπάρχει ξεκάθαρος διαχωρισμός.\r\n",
        "\r\n"
      ]
    }
  ]
}